{
  "nbformat": 4,
  "nbformat_minor": 0,
  "metadata": {
    "colab": {
      "provenance": []
    },
    "kernelspec": {
      "name": "python3",
      "display_name": "Python 3"
    },
    "language_info": {
      "name": "python"
    }
  },
  "cells": [
    {
      "cell_type": "code",
      "execution_count": 1,
      "metadata": {
        "id": "reeUAlCMsD9x"
      },
      "outputs": [],
      "source": [
        "import numpy as np\n",
        "import matplotlib.pyplot as plt\n"
      ]
    },
    {
      "cell_type": "code",
      "source": [
        "'''\n",
        "To prove whether the given vectors 'u' and 'v' are the eigen vectors of a matrix 'A' visually.\n",
        "\n",
        "'''\n",
        "\n",
        "A = np.array([[1, 6],[5, 2]])\n",
        "u = np.array([6, -5])\n",
        "v = np.array([3, -2])\n",
        "\n",
        "Au = np.dot(A, u)\n",
        "Av = np.dot(A, v)\n",
        "\n",
        "print(Av)\n",
        "print(Au)"
      ],
      "metadata": {
        "colab": {
          "base_uri": "https://localhost:8080/"
        },
        "id": "rmzLMQ_Ttkqa",
        "outputId": "eda97034-3e36-4872-c0dc-736d187a2500"
      },
      "execution_count": 3,
      "outputs": [
        {
          "output_type": "stream",
          "name": "stdout",
          "text": [
            "[-9 11]\n",
            "[-24  20]\n"
          ]
        }
      ]
    },
    {
      "cell_type": "markdown",
      "source": [
        "A vector 'u' is said to be eigen vector of a square matrix 'A' if it satisfies the following property:\n",
        "    A*u = lambda*u\n",
        "    where 'lambda' is a scalar\n",
        "    "
      ],
      "metadata": {
        "id": "RZzy_uAStsiZ"
      }
    },
    {
      "cell_type": "code",
      "source": [
        "#find which vector among u and v has the scalar multiple\n",
        "def find_scalar(v1,v2):\n",
        "  scalar=None\n",
        "  for x,y in zip(v1,v2):\n",
        "    if scalar==None:\n",
        "      scalar=x/y\n",
        "\n",
        "    elif x/y != scalar:\n",
        "      return None\n",
        "  return scalar"
      ],
      "metadata": {
        "id": "pMhkHZEJtkn0"
      },
      "execution_count": 4,
      "outputs": []
    },
    {
      "cell_type": "code",
      "source": [
        "lambda_u = find_scalar(Au,u)\n",
        "lambda_v = find_scalar(Av,v)\n"
      ],
      "metadata": {
        "id": "YLYh2P3Wtklp"
      },
      "execution_count": 5,
      "outputs": []
    },
    {
      "cell_type": "code",
      "source": [
        "def is_eigen(A,x,lambda_):\n",
        "  if lambda_ is None:\n",
        "    print(x,\"is not the eigen vector of\", A)\n",
        "  else:\n",
        "    if np.array_equal(np.dot(A,x) , lambda_*x):   #checks if A*u is equal to lambda*u\n",
        "      print(x, \"is the eigen vector of\", A,\"with the scalar factor\",lambda_)\n"
      ],
      "metadata": {
        "id": "aMuKU758tkiy"
      },
      "execution_count": 8,
      "outputs": []
    },
    {
      "cell_type": "code",
      "source": [
        "is_eigen(A,u,lambda_u)"
      ],
      "metadata": {
        "colab": {
          "base_uri": "https://localhost:8080/"
        },
        "id": "2sX2pAGYtkgu",
        "outputId": "3d96c701-f41e-4907-908a-48ff72eaf419"
      },
      "execution_count": 9,
      "outputs": [
        {
          "output_type": "stream",
          "name": "stdout",
          "text": [
            "[ 6 -5] is the eigen vector of [[1 6]\n",
            " [5 2]] with the scalar factor -4.0\n"
          ]
        }
      ]
    },
    {
      "cell_type": "code",
      "source": [
        "is_eigen(A,v,lambda_v)"
      ],
      "metadata": {
        "colab": {
          "base_uri": "https://localhost:8080/"
        },
        "id": "9YN-vBZJtkeU",
        "outputId": "8cccd556-e5d9-4602-ec43-268f8f2de846"
      },
      "execution_count": 10,
      "outputs": [
        {
          "output_type": "stream",
          "name": "stdout",
          "text": [
            "[ 3 -2] is not the eigen vector of [[1 6]\n",
            " [5 2]]\n"
          ]
        }
      ]
    },
    {
      "cell_type": "markdown",
      "source": [
        "This plot shows that the eigen vector 'u' of the square matrix 'A' is scaled by the scalar 'lambda'.\n",
        "Since by definition we know that, the product of the matrix and its eigen vector is equal to the scalar multiple of the eigen vector, both the plots of 'u' and 'Au' must lie in the same line."
      ],
      "metadata": {
        "id": "eIf6A-hc2GVd"
      }
    },
    {
      "cell_type": "code",
      "source": [
        "fig, ax = plt.subplots()\n",
        "\n",
        "# Plot the vectors\n",
        "ax.plot([0, u[0]], [0, u[1]], label='u', marker='o')\n",
        "ax.plot([0, v[0]], [0, v[1]], label='v', marker='o')\n",
        "ax.plot([0, Au[0]], [0, Au[1]], label='Au', marker='o')\n",
        "ax.plot([0, Av[0]], [0, Av[1]], label='Av', marker='o')\n",
        "\n",
        "# Set the aspect ratio to be equal\n",
        "ax.set_aspect('equal')\n",
        "\n",
        "# Set labels and legend\n",
        "ax.set_xlabel('X')\n",
        "ax.set_ylabel('Y')\n",
        "ax.legend()\n",
        "\n",
        "# Show the plot\n",
        "plt.grid(True)\n",
        "plt.show()"
      ],
      "metadata": {
        "colab": {
          "base_uri": "https://localhost:8080/",
          "height": 449
        },
        "id": "geTcrC5ptkZY",
        "outputId": "21036131-d22d-4274-943a-c65d1951176a"
      },
      "execution_count": 11,
      "outputs": [
        {
          "output_type": "display_data",
          "data": {
            "text/plain": [
              "<Figure size 640x480 with 1 Axes>"
            ],
            "image/png": "[encoded data removed]"
          },
          "metadata": {}
        }
      ]
    }
  ]
}